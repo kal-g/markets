{
 "cells": [
  {
   "cell_type": "markdown",
   "id": "bfbc2ede",
   "metadata": {},
   "source": [
    "## Imports"
   ]
  },
  {
   "cell_type": "code",
   "execution_count": 395,
   "id": "b795cdfc",
   "metadata": {},
   "outputs": [],
   "source": [
    "import matplotlib.pyplot as plt\n",
    "import numpy as np"
   ]
  },
  {
   "cell_type": "code",
   "execution_count": 396,
   "id": "1d4d18b6",
   "metadata": {},
   "outputs": [],
   "source": [
    "from collections import defaultdict\n",
    "\n",
    "\n",
    "class PayoffGen:\n",
    "  def __init__(self, underlyingPrice = 100):\n",
    "    self.disconts = defaultdict(list)\n",
    "    self.underlyingPrice = underlyingPrice\n",
    "\n",
    "  def calcPremium(self, strike, isPut=False):\n",
    "    premium = self.underlyingPrice - strike\n",
    "    if isPut:\n",
    "      premium = -premium\n",
    "    if premium < 1:\n",
    "      premium = 1\n",
    "    return premium\n",
    "\n",
    "  def BuyCall(self, strike, premium = None):\n",
    "    if premium is None:\n",
    "      premium = self.calcPremium(strike)\n",
    "    self.disconts[0].append(lambda x : -premium)\n",
    "    self.disconts[strike].append(lambda x : x-strike)\n",
    "\n",
    "  def SellCall(self, strike, premium = None):\n",
    "    if premium is None:\n",
    "      premium = self.calcPremium(strike)\n",
    "    self.disconts[0].append(lambda x : premium)\n",
    "    self.disconts[strike].append(lambda x : -x+strike)\n",
    "\n",
    "  def BuyPut(self, strike, premium = None):\n",
    "    if premium is None:\n",
    "      premium = self.calcPremium(strike, True)\n",
    "    self.disconts[0].append(lambda x : -x+strike-premium)\n",
    "    self.disconts[strike].append(lambda x : +x-strike)\n",
    "\n",
    "  def GenFunc(self, currLambdas):\n",
    "    def func(x):\n",
    "        y = 0.\n",
    "        for l in currLambdas:\n",
    "          y += l(x)\n",
    "        return y\n",
    "    return func\n",
    "\n",
    "  def GenPiecewise(self):\n",
    "    x = np.arange(0., 100., 1)\n",
    "    # Domains\n",
    "    domains = [x >= y for y in sorted(self.disconts.keys())]\n",
    "    # Func\n",
    "    funcs = []\n",
    "    currLambdas = []\n",
    "    for d in sorted(self.disconts.keys()):\n",
    "      currLambdas.extend(self.disconts[d])\n",
    "      funcs.append(self.GenFunc(currLambdas.copy()))\n",
    "    return x, domains, funcs"
   ]
  },
  {
   "cell_type": "code",
   "execution_count": 397,
   "id": "6343cf59",
   "metadata": {},
   "outputs": [],
   "source": [
    "op = PayoffGen()\n",
    "op.BuyCall(20)\n",
    "x, domains, funcs = op.GenPiecewise()\n"
   ]
  },
  {
   "cell_type": "code",
   "execution_count": 398,
   "id": "76d6b1df",
   "metadata": {},
   "outputs": [
    {
     "data": {
      "text/plain": [
       "[<matplotlib.lines.Line2D at 0x7ff029ebb1f0>]"
      ]
     },
     "execution_count": 398,
     "metadata": {},
     "output_type": "execute_result"
    },
    {
     "data": {
      "image/png": "[encoded data removed]",
      "text/plain": [
       "<Figure size 432x288 with 1 Axes>"
      ]
     },
     "metadata": {
      "needs_background": "light"
     },
     "output_type": "display_data"
    }
   ],
   "source": [
    "plt.plot(x, np.piecewise(x, domains, funcs))"
   ]
  },
  {
   "cell_type": "code",
   "execution_count": 399,
   "id": "fdb89b5f",
   "metadata": {},
   "outputs": [],
   "source": [
    "op = PayoffGen(40)\n",
    "op.BuyPut(60)\n",
    "op.BuyCall(40)\n",
    "x, domains, funcs = op.GenPiecewise()\n"
   ]
  },
  {
   "cell_type": "code",
   "execution_count": 400,
   "id": "e1a16fb1",
   "metadata": {},
   "outputs": [
    {
     "data": {
      "text/plain": [
       "[<matplotlib.lines.Line2D at 0x7ff02a09d3d0>]"
      ]
     },
     "execution_count": 400,
     "metadata": {},
     "output_type": "execute_result"
    },
    {
     "data": {
      "image/png": "[encoded data removed]",
      "text/plain": [
       "<Figure size 432x288 with 1 Axes>"
      ]
     },
     "metadata": {
      "needs_background": "light"
     },
     "output_type": "display_data"
    }
   ],
   "source": [
    "plt.plot(x, np.piecewise(x, domains, funcs))"
   ]
  },
  {
   "cell_type": "code",
   "execution_count": null,
   "id": "4a40b669",
   "metadata": {},
   "outputs": [],
   "source": []
  },
  {
   "cell_type": "code",
   "execution_count": null,
   "id": "8f7ff90d",
   "metadata": {},
   "outputs": [],
   "source": []
  },
  {
   "cell_type": "code",
   "execution_count": null,
   "metadata": {},
   "outputs": [],
   "source": []
  }
 ],
 "metadata": {
  "interpreter": {
   "hash": "8124c299eb231f31c2add29327191d7472c70ab2095b4517a65bdbe70919c4a6"
  },
  "kernelspec": {
   "display_name": "Python 3.9.2 ('jp')",
   "language": "python",
   "name": "python3"
  },
  "language_info": {
   "codemirror_mode": {
    "name": "ipython",
    "version": 3
   },
   "file_extension": ".py",
   "mimetype": "text/x-python",
   "name": "python",
   "nbconvert_exporter": "python",
   "pygments_lexer": "ipython3",
   "version": "3.9.2"
  }
 },
 "nbformat": 4,
 "nbformat_minor": 5
}
